{
 "cells": [
  {
   "cell_type": "markdown",
   "metadata": {},
   "source": [
    "# Streamlines tutorial\n",
    "In this tutorial you will learn how to download and render streamline data to display connectivity data. In brief, injections of anterogradely transported viruses are performed in wild type and CRE-driver mouse lines. The viruses express fluorescent proteins so that efferent projections from the injection locations can be traced everywhere in the brain. The images with the fluorescence data are acquired and registered to the Allen Coordinates reference frame. The traces of the streamlines are then extracted using a fast marching algorithm (by [https://neuroinformatics.nl](https://neuroinformatics.nl)).\n",
    "\n",
    "<img src=\"../Docs/Media/streamlines.png\" width=\"600\" height=\"350\">\n",
    "\n",
    "The connectivity data are produced as part of the Allen Brain Atlas [Mouse Connectivity project](http://connectivity.brain-map.org).\n",
    "\n",
    "The first step towards being able to render streamlines data is to identify the set of experiments you are interested in (i.e. injections in the primary visual cortex of wild type mice]. To do so you can use the experiments explorer at [http://connectivity.brain-map.org].\n",
    "\n",
    "Once you have selected the experiments, you can download metadata about them using the 'download data as csv' option at the bottom of the page. This metadata .csv is what we can then use to get a link to the data to download. \n",
    "\n",
    "First we do the usual set up steps to get BrainRender up and running\n",
    "### Setup\n"
   ]
  },
  {
   "cell_type": "code",
   "execution_count": null,
   "metadata": {},
   "outputs": [],
   "source": [
    "# We begin by adding the current path to sys.path to make sure that the imports work correctly\n",
    "import sys\n",
    "sys.path.append('../')\n",
    "import os\n",
    "\n",
    "# Set up VTKPLOTTER to work in Jupyter notebooks\n",
    "from vtkplotter import *\n",
    "embedWindow(backend=False) \n",
    "\n",
    "# Import variables\n",
    "from BrainRender.variables import * # <- these can be changed to personalize the look of your renders\n",
    "\n",
    "# Import BrainRender classes and useful functions\n",
    "from BrainRender.scene import Scene\n",
    "from BrainRender.Utils.parsers.streamlines import StreamlinesAPI\n",
    "from BrainRender.Utils.data_io import listdir\n",
    "\n",
    "# Before populating the scene, we need to change the current working directory to the parent folder, \n",
    "# then we are ready to start!\n",
    "os.chdir(os.path.normpath(os.path.join(os.getcwd(), os.pardir)))\n",
    "\n",
    "streamlines_api = StreamlinesAPI()"
   ]
  },
  {
   "cell_type": "markdown",
   "metadata": {},
   "source": [
    "## Downloading data\n",
    "If you have streamlines data already saved somewhere, you can skip this section.\n",
    "\n",
    "### Manual download\n",
    "To download streamlines data, you have two options (see the [user guide](Docs/UserGuide.md) for more details. \n",
    "If you head to [http://connectivity.brain-map.org](http://connectivity.brain-map.org) you can download a .csv file with the experiment IDs of interest. Then you can use the following function to download the streamline data: "
   ]
  },
  {
   "cell_type": "code",
   "execution_count": null,
   "metadata": {},
   "outputs": [],
   "source": [
    "# parse .csv file\n",
    "# Make sure to put the path to your downloaded file here\n",
    "filepaths, data = streamlines_api.extract_ids_from_csv(\"Examples/example_files/experiments_injections.csv\", \n",
    "                                                       download=True) "
   ]
  },
  {
   "cell_type": "markdown",
   "metadata": {},
   "source": [
    "The `filepaths` variable stores the paths to the .json files that have been saved by the `streamlines_api`, the `data` variable already contains the streamlines data. You can pass either `filepaths` or `data` to `scene.add_streamlines` (see below) to render your streamlines data. "
   ]
  },
  {
   "cell_type": "markdown",
   "metadata": {},
   "source": [
    "### Automatic download\n",
    "If you know that you simply want to download the data to a specific target structure, then you can let BrainRender take care of downloading the data for you. This is how:"
   ]
  },
  {
   "cell_type": "code",
   "execution_count": null,
   "metadata": {},
   "outputs": [],
   "source": [
    "filepaths, data = streamlines_api.download_streamlines_for_region(\"CA1\") # <- get the streamlines for CA1"
   ]
  },
  {
   "cell_type": "markdown",
   "metadata": {},
   "source": [
    "Once you have downloaded the streamlines data, it's time to render it in your scene. \n",
    "\n",
    "## Rendering streamlines data\n",
    "You can pass either `data` or `filepaths` to `scene.add_streamlines`, just make sure to use the correct keyword argument (unimaginatively called `data` and `filepath`)."
   ]
  },
  {
   "cell_type": "code",
   "execution_count": null,
   "metadata": {},
   "outputs": [],
   "source": [
    "# Start by creating a scene\n",
    "scene = Scene(jupyter=True)\n",
    "\n",
    "# if you have all the .json files in a folder, where there are no other files, then you can use the 'listdir'\n",
    "# function to get the path to all the .json files:\n",
    "streamlines_files = listdir(\"Examples/example_files/streamlines\")\n",
    "\n",
    "# you can then pass this list of filepaths to add_streamlines.\n",
    "scene.add_streamlines(filepath=streamlines_files, color=\"green\")\n",
    "\n",
    "# alternative you can pass a string with the path to a single file or a list of paths to the .json files that you \n",
    "# created in some other way. \n",
    "\n",
    "# then you can just render your scene\n",
    "scene.render()"
   ]
  },
  {
   "cell_type": "markdown",
   "metadata": {},
   "source": [
    "add_streamliens takes a few arguments that let you personalize the look of the streamlines:\n",
    "* `colorby`: you can pass the acronym to a brain region, then the default color of that region will be used for the streamliens\n",
    "* `color`: alternatively you can specify the color of the streamlines directly.\n",
    "* `alpha`, `radius`: you can change the transparency and the thickness of the actors used to render the streamlines.\n",
    "* `show_injection_site`: if set as True, a sphere will be rendered at the locations that correspond to the injections sytes. \n",
    "\n",
    "\n",
    "Don't forget to check the other examples to lear more about how to use BrainRender to make amazing 3D renderings!\n",
    "Also, you can find a list of variables you can play around with in BrainRender.variables.py\n",
    "Playing around with these variables will allow you to make the rendering look exactly how you want them to be. "
   ]
  }
 ],
 "metadata": {
  "file_extension": ".py",
  "kernelspec": {
   "display_name": "Python 3",
   "language": "python",
   "name": "python3"
  },
  "language_info": {
   "codemirror_mode": {
    "name": "ipython",
    "version": 3
   },
   "file_extension": ".py",
   "mimetype": "text/x-python",
   "name": "python",
   "nbconvert_exporter": "python",
   "pygments_lexer": "ipython3",
   "version": "3.6.7"
  },
  "mimetype": "text/x-python",
  "name": "python",
  "npconvert_exporter": "python",
  "pygments_lexer": "ipython3",
  "version": 3
 },
 "nbformat": 4,
 "nbformat_minor": 2
}
